{
 "cells": [
  {
   "cell_type": "markdown",
   "metadata": {},
   "source": [
    "Submitted by: **Vikas Hanasoge Nataraja**\n",
    "\n",
    "Email : viha4393@colorado.edu"
   ]
  },
  {
   "cell_type": "code",
   "execution_count": 201,
   "metadata": {},
   "outputs": [],
   "source": [
    "import numpy as np\n",
    "import matplotlib.pyplot as plt\n",
    "import sklearn\n",
    "import sklearn.datasets"
   ]
  },
  {
   "cell_type": "markdown",
   "metadata": {},
   "source": [
    "*Wait a minute - didn't we just import Scikit-learn (sklearn)? The package with baked-in machine learning tools?*\n",
    "\n",
    "Yes - but it also has a ton of helper functions, including a dataset we'll be using later. But, for now, let's set up a KNNClassifier class."
   ]
  },
  {
   "cell_type": "code",
   "execution_count": 211,
   "metadata": {},
   "outputs": [],
   "source": [
    "import sklearn.neighbors\n",
    "import collections \n",
    "import sklearn.metrics \n",
    "\n",
    "class KNNClassifier:\n",
    "    \n",
    "    def __init__(self, X, y, k = 5):\n",
    "        \"\"\"\n",
    "        Initialize our custom KNN classifier\n",
    "        PARAMETERS\n",
    "        X - our training data features\n",
    "        y - our training data answers\n",
    "        k - the number of nearest neighbors to consider for classification\n",
    "        \"\"\"\n",
    "        self._model = sklearn.neighbors.BallTree(X)\n",
    "        self._X = X\n",
    "        self._y = y\n",
    "        self._k = k\n",
    "        self._counts = self.getCounts()\n",
    "        self._final = self.classify(self._X)\n",
    "        self._confused = self.confusionMatrix(self._X, self._y)\n",
    "        self._accuracyScore = self.accuracy(self._confused)\n",
    "        \n",
    "        print('Accuracy score is',self._accuracyScore, 'or',self._accuracyScore*100,'%')\n",
    "        \n",
    "    \n",
    "    def getCounts(self):\n",
    "        \"\"\"\n",
    "        Creates a dictionary storing the counts of each answer class found in y\n",
    "        RETURNS\n",
    "        counts - a dictionary of counts of answer classes\n",
    "        \"\"\"\n",
    "        #counts = dict({1:0,-1:0})\n",
    "        #BEGIN Workspace 1.1\n",
    "        #TODO: Modify and/or add to counts so that it returns a count of each answer class found in y\n",
    "        #END Workspace 1.1\n",
    "        \n",
    "        # using the non-numpy way:\n",
    "        #counts = collections.Counter(y) #doesn't seem to work, throws up a numpy.ndarray hashable error\n",
    "        \n",
    "        # instead store it in tuples\n",
    "        element, counts = np.unique(self._y, return_counts=True)\n",
    "        counts = dict(zip(element, counts))\n",
    "        print(\"Dictionary of counts of classes\", counts)\n",
    "        \n",
    "        return(counts)\n",
    "    \n",
    "    def majority(self, indices):\n",
    "        \"\"\"\n",
    "        Given indices, report the majority label of those points.\n",
    "        For a tie, report the most common label in the data set.\n",
    "        PARAMETERS\n",
    "        indices - an np.array, where each element is an index of a neighbor\n",
    "        RETURNS\n",
    "        label - the majority label of our neighbors\n",
    "        \"\"\"\n",
    "        #label = 0 #use this line for first part of assignment\n",
    "        label = []\n",
    "        #BEGIN Workspace 1.2\n",
    "        #TODO: Determine majority, assign it to label\n",
    "        #END Workspace 1.2\n",
    "       \n",
    "        #nearestLabels = self._y[0][indices] #use this line for first part of assignment\n",
    "        nearestLabels = self._y[indices] #use this line when testing on digits\n",
    "       \n",
    "        # converting to list for my convenience\n",
    "        predictedClassList = nearestLabels.tolist()\n",
    "        \n",
    "        #remove extra brackets if found\n",
    "        #bracketless = [value for sublist in newlist for value in sublist]\n",
    "        \"\"\"\n",
    "        #use this part for first part of assignment\n",
    "        if sum(predictedClassList) > 0:\n",
    "            label = 1\n",
    "        else:\n",
    "            label = -1 #includes tie i.e, returns -1 in case of tie\n",
    "       \n",
    "        \"\"\"\n",
    "        \n",
    "        \"\"\"\n",
    "        predictedClassList yields a list of lists. Each list has the labels of the k neighbors.\n",
    "        The following for loop goes through the list to find the most common element or \"majority\"\n",
    "        of the classes having same labels\n",
    "        \"\"\"\n",
    "        \n",
    "        for i in range(len(predictedClassList)):\n",
    "            label.append(max(set(predictedClassList[i]), key = predictedClassList[i].count))\n",
    "        \n",
    "        return(label)\n",
    "    \n",
    "    def classify(self, point):\n",
    "        \"\"\"\n",
    "        Given a new data point, classify it according to the training data X and our number of neighbors k \n",
    "        into the appropriate class in our training answers y\n",
    "        PARAMETERS\n",
    "        point - a feature vector of our test point\n",
    "        RETURNS\n",
    "        ans - our predicted classification\n",
    "        \"\"\"\n",
    "        ans = []\n",
    "        #BEGIN Workspace 1.3\n",
    "        #TODO: perform classification of point here\n",
    "        #END Workspace 1.3\n",
    "        print('Data points being tested are ',point)\n",
    "        distances, index = self._model.query(point, self._k)\n",
    "        #print('The nearest neighbors are at',index, 'at a distance of', distances)\n",
    "        #ans = self.majority(index)\n",
    "        #for i in range(len(point)):\n",
    "        #    ans.append(self.majority(index))\n",
    "        \n",
    "        # call majority function to find the labels of the classes\n",
    "        ans = self.majority(index)\n",
    "        \n",
    "        return (ans)\n",
    "    \n",
    "    def confusionMatrix(self, testX, testY):\n",
    "        \"\"\"\n",
    "        Generate a confusion matrix for the given test set\n",
    "        PARAMETERS\n",
    "        testX - an np.array of feature vectors of test points\n",
    "        testY - the corresponding correct classifications of our test set\n",
    "        RETURN\n",
    "        C - an N*N np.array of counts, where N is the number of classes in our classifier\n",
    "        \"\"\"\n",
    "        \n",
    "        #BEGIN Workspace 1.4\n",
    "        #TODO: Run classification for the test set, compare to test answers, and add counts to matrix\n",
    "        #END Workspace 1.4\n",
    "        \n",
    "        \n",
    "        #bracketless_final = [value for sublist in self._final for value in sublist]\n",
    "        \n",
    "        #remove extra brackets if found\n",
    "        #true = [value for sublist in testY for value in sublist]\n",
    "        true = self._y\n",
    "        #print('Actual classification',true)\n",
    "        #print('Predicted classification',self._final)\n",
    "        \n",
    "        # can be achieved using scikit attributes easily\n",
    "        #C = sklearn.metrics.confusion_matrix(bracketless_Y, np.array(self._final), labels =[-1, 1])\n",
    "        \n",
    "        \n",
    "        C = np.zeros((max(true)+1, max(true)+1)) #not the most elegant way\n",
    "        \n",
    "        for tesla, waymo in zip(true, self._final):\n",
    "            C[tesla][waymo] += 1\n",
    "        \n",
    "        return(C)\n",
    "    \n",
    "    def accuracy(self, C):\n",
    "        \"\"\"\n",
    "        Generate an accuracy score for the classifier based on the confusion matrix\n",
    "        PARAMETERS\n",
    "        C - an np.array of counts\n",
    "        RETURN\n",
    "        score - an accuracy score\n",
    "        \"\"\"\n",
    "        score = np.sum(C.diagonal()) / C.sum()\n",
    "        return(score)"
   ]
  },
  {
   "cell_type": "markdown",
   "metadata": {},
   "source": [
    "## Our Dataset - Identifying Digits from Images\n",
    "\n",
    "It's a pretty common problem - just imagine working at the post office, or at a bank, and you're handed a hand-written envelope, or check, or other piece of information and you have to identify exactly what it says. Did they pay 500 or 600 dollars? Is the letter going to 80309 (campus) or 30309 (Atlanta)?\n",
    "\n",
    "Let's be a little smart about this - let's set up some classes and helper functions to help us out.\n",
    "\n",
    "### Task 2: Implement KNN on Digits dataset - 30 Points\n",
    "\n",
    "2.1 Randomly divide our Digits dataset into training and testing sets \n",
    "\n",
    "2.2 Report the number of examples in training and testing, as well as measuring then number of pixels in each image \n",
    "\n",
    "2.3 Create a confusion matrix of our classifier for K = 5"
   ]
  },
  {
   "cell_type": "code",
   "execution_count": 285,
   "metadata": {},
   "outputs": [],
   "source": [
    "import sklearn.model_selection\n",
    "import random\n",
    "class Numbers:\n",
    "    def __init__(self):\n",
    "        #load data from sklearn\n",
    "        digits = sklearn.datasets.load_digits()\n",
    "        \n",
    "        testRatio = 0.2 #meaning 20% of data will be test, 80% will be training data\n",
    "        \n",
    "        # use train_test_split attribute of scikitlearn to split the data into training and testing features\n",
    "        self.train_x, self.test_x, self.train_y, self.test_y = sklearn.model_selection.train_test_split(digits.data, digits.target, test_size = testRatio, random_state = 0)\n",
    "        \n",
    "    def report(self):\n",
    "        \"\"\"\n",
    "        Report information about the dataset using the print() function\n",
    "        \"\"\"\n",
    "        #BEGIN Workspace 2.2\n",
    "        #TODO: Create printouts for reporting the size of each set and the size of each datapoint\n",
    "        #END Workspace 2.2\n",
    "        #print('Size of entire datatset is',np.size(digits.data))\n",
    "        print('Number of elements in training data is',np.size(self.train_x),'contained in matrix of size', np.shape(self.train_x))\n",
    "        print('Number of elements in test data is',np.size(self.test_x),'contained in matrix of size', np.shape(self.test_x))\n",
    "        print('Number of elements in training answers is',np.size(self.train_y),'contained in matrix of size', np.shape(self.train_y))\n",
    "        print('Number of elements in test answers is',np.size(self.test_y),'contained in matrix of size', np.shape(self.test_y)) \n",
    "        #print('train_x training examples', self.train_x)\n",
    "        #print('train_y answers',self.train_y)\n",
    "        #print('length of x',len(self.train_x))\n",
    "        \n",
    "    def classify(self):\n",
    "        \"\"\"\n",
    "        Create a classifier using the training data and generate a confusion matrix for the test data\n",
    "        \"\"\"\n",
    "        #BEGIN Workspace 2.3\n",
    "        #TODO: Create classifier from training data, generate confusion matrix for test data\n",
    "        #END Workspace 2.3\n",
    "        \n",
    "        # call KNN classifier from the first part of the assignment\n",
    "        self.classy = KNNClassifier(self.train_x, self.train_y, k = 5)\n",
    "        self.confusedMatrix = self.classy.confusionMatrix(self.train_x, self.train_y)\n",
    "        \n",
    "        \n",
    "    def viewDigit(self, digitImage):\n",
    "        \"\"\"\n",
    "        Display an image of a digit\n",
    "        PARAMETERS\n",
    "        digitImage - a data object from the dataset\n",
    "        \"\"\"\n",
    "        plt.gray()\n",
    "        plt.matshow(digitImage)\n",
    "        plt.show()\n",
    "        \n"
   ]
  },
  {
   "cell_type": "markdown",
   "metadata": {},
   "source": [
    "## Implement the classifier ##\n",
    "\n",
    "In the following section of code, create an object of the class 'Numbers' and call the methods of the class\n",
    "to implement the KNN classifier designed in the first part of the assignment."
   ]
  },
  {
   "cell_type": "code",
   "execution_count": 286,
   "metadata": {
    "scrolled": false
   },
   "outputs": [
    {
     "name": "stdout",
     "output_type": "stream",
     "text": [
      "Number of elements in training data is 91968 contained in matrix of size (1437, 64)\n",
      "Number of elements in test data is 23040 contained in matrix of size (360, 64)\n",
      "Number of elements in training answers is 1437 contained in matrix of size (1437,)\n",
      "Number of elements in test answers is 360 contained in matrix of size (360,)\n",
      "Dictionary of counts of classes {0: 151, 1: 147, 2: 141, 3: 154, 4: 151, 5: 142, 6: 137, 7: 140, 8: 135, 9: 139}\n",
      "Data points being tested are  [[ 0.  0.  0. ... 16. 16.  6.]\n",
      " [ 0.  3. 12. ... 16.  2.  0.]\n",
      " [ 0.  1. 10. ...  0.  0.  0.]\n",
      " ...\n",
      " [ 0.  0.  5. ...  0.  0.  0.]\n",
      " [ 0.  0.  4. ...  0.  0.  0.]\n",
      " [ 0.  0.  6. ... 11.  0.  0.]]\n",
      "Accuracy score is 0.9902574808629089 or 99.02574808629089 %\n",
      "Confusion matrix\n",
      " [[151.   0.   0.   0.   0.   0.   0.   0.   0.   0.]\n",
      " [  0. 147.   0.   0.   0.   0.   0.   0.   0.   0.]\n",
      " [  0.   0. 141.   0.   0.   0.   0.   0.   0.   0.]\n",
      " [  0.   0.   0. 152.   0.   0.   0.   2.   0.   0.]\n",
      " [  0.   0.   0.   0. 151.   0.   0.   0.   0.   0.]\n",
      " [  0.   0.   0.   0.   0. 141.   1.   0.   0.   0.]\n",
      " [  0.   0.   0.   0.   0.   0. 137.   0.   0.   0.]\n",
      " [  0.   0.   0.   0.   0.   0.   0. 139.   0.   1.]\n",
      " [  0.   3.   0.   0.   0.   0.   0.   0. 132.   0.]\n",
      " [  0.   1.   0.   2.   1.   1.   0.   0.   2. 132.]]\n"
     ]
    }
   ],
   "source": [
    "digitsObject = Numbers()\n",
    "digitsObject.report() \n",
    "\n",
    "#classify the digits\n",
    "digitsObject.classify()\n",
    "\n",
    "# for confusion matrix\n",
    "conMatrix = digitsObject.confusedMatrix\n",
    "print('Confusion matrix\\n',conMatrix)"
   ]
  },
  {
   "cell_type": "markdown",
   "metadata": {},
   "source": [
    "### Results\n",
    "\n",
    "* The classifier has correctly classified with a success rate of over 99% which is impressive for KNN.\n",
    "* Other observations are made in the following sections."
   ]
  },
  {
   "cell_type": "markdown",
   "metadata": {},
   "source": [
    "### Task 3: Improving KNN on Digits - 30 Points\n",
    "\n",
    "3.1 Now, I determine which classes are most often confused (from our confusion matrix above), inspect some examples of these digits (using the viewDigit function in our Numbers class), and write a brief (4 - 5 sentences) description.\n",
    "\n",
    "3.2 Explore the influence of the number of nearest neighbors (i.e. try changing our K). Plot the relationship between K and accuracy, and write a brief (4 - 5 sentences) description.\n",
    "\n",
    "3.3 Explore the influence of the train / test split of our data (i.e. copy our Numbers class into Numbers2 below and try changing the split for our dataset). Plot the relationship between the split % and accuracy, and write a brief (4 - 5 sentences) description."
   ]
  },
  {
   "cell_type": "code",
   "execution_count": 287,
   "metadata": {},
   "outputs": [
    {
     "data": {
      "image/png": "[encoded data removed]",
      "text/plain": [
       "<Figure size 288x288 with 1 Axes>"
      ]
     },
     "metadata": {
      "needs_background": "light"
     },
     "output_type": "display_data"
    },
    {
     "data": {
      "image/png": "[encoded data removed]",
      "text/plain": [
       "<Figure size 480x288 with 1 Axes>"
      ]
     },
     "metadata": {
      "needs_background": "light"
     },
     "output_type": "display_data"
    },
    {
     "data": {
      "image/png": "[encoded data removed]",
      "text/plain": [
       "<Figure size 720x288 with 1 Axes>"
      ]
     },
     "metadata": {
      "needs_background": "light"
     },
     "output_type": "display_data"
    }
   ],
   "source": [
    "#BEGIN 3.1a\n",
    "#TODO: Print out problem class images\n",
    "#END 3.1a\n",
    "digitsObject.viewDigit(conMatrix)\n",
    "#print(conMatrix[:4][:4])\n",
    "digitsObject.viewDigit(conMatrix[:6][:6])\n",
    "digitsObject.viewDigit(conMatrix[3:][3:])"
   ]
  },
  {
   "cell_type": "markdown",
   "metadata": {},
   "source": [
    "#### 3.1b\n",
    "TODO: Write description of misclassification\n",
    "\n",
    "Determine which classes are most often confused (from our confusion matrix above), inspect some examples of these digits (using the viewDigit function in our Numbers class), and write a brief (4 - 5 sentences) description of why you think these particular numbers may be misclassified.\n",
    "\n",
    "* In the above three figures, the classes 0 through 9 are displayed as pixels.\n",
    "* A clear observation can be made in terms of the color difference between the pixels.\n",
    "    * Since this is grayscaled, 0 corresponds to black, 255 or maximum value(100% match) corresponds to white.\n",
    "    * The matrix reveals that 0 has been classified correctly 100% of the time and is therefore fully white.\n",
    "    * Clearly, this is not the case for 3 and 9 which have tinges of gray. This is because they have not been classified correctly all the time.\n",
    "* The reason for the misclassifications, particularly 3, 8 and 9 which have the highest discrepancies, comes down to the curvature and shapes of these numbers.\n",
    "* 3 was misclassified as 9 a few times quite possibly because of the curvature of both these digits. If someone closed the upper loop of 3, or came close to it, the classifier cannot quite distinguish anymore.\n"
   ]
  },
  {
   "cell_type": "markdown",
   "metadata": {},
   "source": [
    "#### 3.2b\n",
    "TODO: Write description of influence of neighbor count\n",
    "\n",
    "Explore the influence of the number of nearest neighbors (i.e. try changing our K). Plot the relationship between K and accuracy, and write a brief (4 - 5 sentences) description of how this factor impacts our accuracy.\n",
    "\n",
    "* Here, the number of neighbors is changed and the corresponding accuracy scores are plotted as a line plot.\n",
    "* From the plot, it is clear that the classifier works best when the number of neighbors is less than 10.\n",
    "* More the neighbors, lesser the accuracy. This is even more pronounced when the count goes beyond 20. Accuracy deteriorates beyond an acceptable margin"
   ]
  },
  {
   "cell_type": "code",
   "execution_count": 300,
   "metadata": {},
   "outputs": [
    {
     "data": {
      "text/plain": [
       "Text(0,0.5,'Accuracy in percentage')"
      ]
     },
     "execution_count": 300,
     "metadata": {},
     "output_type": "execute_result"
    },
    {
     "data": {
      "image/png": "[encoded data removed]",
      "text/plain": [
       "<Figure size 432x288 with 1 Axes>"
      ]
     },
     "metadata": {
      "needs_background": "light"
     },
     "output_type": "display_data"
    }
   ],
   "source": [
    "k_values = [1, 2, 3, 4, 5, 6, 7, 8, 9, 10, 15, 20, 25, 50, 100]\n",
    "accuracies = [100, 99.721, 99.095, 99.304, 99.025, 98.956, 99.025, 98.886, 98.747, 98.747, 98.329, 97.9819, 97.007, 94.711, 91.997]\n",
    "\n",
    "plt.plot(k_values, accuracies)\n",
    "plt.title('Neighbor count (k) vs accuracy')\n",
    "plt.xlabel('Neighbor count (k)')\n",
    "plt.ylabel('Accuracy in percentage')"
   ]
  },
  {
   "cell_type": "markdown",
   "metadata": {},
   "source": [
    "#### 3.3b\n",
    "TODO: Write description of influence of training / testing split\n",
    "\n",
    "Explore the influence of the train / test split of our data (i.e. copy our Numbers class into Numbers2 below and try changing the split for our dataset). Plot the relationship between the split % and accuracy, and write a brief (4 - 5 sentences) description of its impact."
   ]
  },
  {
   "cell_type": "code",
   "execution_count": 303,
   "metadata": {},
   "outputs": [],
   "source": [
    "class Numbers2:\n",
    "    def __init__(self, trainPercentage):\n",
    "        #load data from sklearn\n",
    "        digits = sklearn.datasets.load_digits()\n",
    "        testPercentage = 100 - trainPercentage\n",
    "        self.train_x, self.test_x, self.train_y, self.test_y = sklearn.model_selection.train_test_split(digits.data, digits.target, test_size = testPercentage/100, random_state = 0)\n",
    "\n",
    "    def classify(self, k):\n",
    "        \"\"\"\n",
    "        Create a classifier using the training data and generate a confusion matrix for the test data\n",
    "        \"\"\"\n",
    "        #BEGIN Workspace 3.2a\n",
    "        #TODO: Create classifier from training data (using k nearest neighbors), generate confusion matrix for test data\n",
    "        #HINT: You can copy your own work from the original Numbers class\n",
    "        #END Workspace 3.2a\n",
    "        self.newclassy = KNNClassifier(self.train_x, self.train_y, k)\n",
    "        \n",
    "        #now instead of using training data to plot confusion matrix, use test data\n",
    "        self.newconfusedMatrix = self.newclassy.confusionMatrix(self.test_x, self.test_y)\n",
    "        \n",
    "    def viewDigit(self, digitImage):\n",
    "        \"\"\"\n",
    "        Display an image of a digit\n",
    "        PARAMETERS\n",
    "        digitImage - a data object from the dataset\n",
    "        \"\"\"\n",
    "        plt.gray()\n",
    "        plt.matshow(digitImage)\n",
    "        plt.show()"
   ]
  },
  {
   "cell_type": "code",
   "execution_count": 327,
   "metadata": {},
   "outputs": [
    {
     "name": "stdout",
     "output_type": "stream",
     "text": [
      "Dictionary of counts of classes {0: 178, 1: 182, 2: 177, 3: 183, 4: 181, 5: 182, 6: 181, 7: 179, 8: 174, 9: 180}\n",
      "Data points being tested are  [[ 0.  0. 11. ... 13. 16.  8.]\n",
      " [ 0.  1. 15. ...  1.  0.  0.]\n",
      " [ 0.  2. 13. ... 16. 16.  3.]\n",
      " ...\n",
      " [ 0.  0.  5. ...  0.  0.  0.]\n",
      " [ 0.  0.  4. ...  0.  0.  0.]\n",
      " [ 0.  0.  6. ... 11.  0.  0.]]\n",
      "Accuracy score is 0.993322203672788 or 99.33222036727881 %\n",
      "Confusion matrix for test data\n",
      " [[178.   0.   0.   0.   0.   0.   0.   0.   0.   0.]\n",
      " [  0. 182.   0.   0.   0.   0.   0.   0.   0.   0.]\n",
      " [  0.   0. 177.   0.   0.   0.   0.   0.   0.   0.]\n",
      " [  0.   0.   0. 183.   0.   0.   0.   0.   0.   0.]\n",
      " [  0.   0.   0.   0. 181.   0.   0.   0.   0.   0.]\n",
      " [  0.   0.   0.   0.   0. 180.   1.   0.   0.   1.]\n",
      " [  0.   0.   0.   0.   0.   0. 181.   0.   0.   0.]\n",
      " [  0.   0.   0.   0.   0.   0.   0. 178.   0.   1.]\n",
      " [  0.   4.   0.   0.   0.   0.   0.   0. 170.   0.]\n",
      " [  0.   0.   0.   2.   1.   0.   0.   0.   2. 175.]]\n"
     ]
    },
    {
     "data": {
      "text/plain": [
       "<Figure size 432x288 with 0 Axes>"
      ]
     },
     "metadata": {},
     "output_type": "display_data"
    },
    {
     "data": {
      "image/png": "[encoded data removed]",
      "text/plain": [
       "<Figure size 288x288 with 1 Axes>"
      ]
     },
     "metadata": {
      "needs_background": "light"
     },
     "output_type": "display_data"
    },
    {
     "data": {
      "text/plain": [
       "<Figure size 432x288 with 0 Axes>"
      ]
     },
     "metadata": {},
     "output_type": "display_data"
    },
    {
     "data": {
      "image/png": "[encoded data removed]",
      "text/plain": [
       "<Figure size 480x288 with 1 Axes>"
      ]
     },
     "metadata": {
      "needs_background": "light"
     },
     "output_type": "display_data"
    },
    {
     "data": {
      "text/plain": [
       "<Figure size 432x288 with 0 Axes>"
      ]
     },
     "metadata": {},
     "output_type": "display_data"
    },
    {
     "data": {
      "image/png": "[encoded data removed]",
      "text/plain": [
       "<Figure size 720x288 with 1 Axes>"
      ]
     },
     "metadata": {
      "needs_background": "light"
     },
     "output_type": "display_data"
    }
   ],
   "source": [
    "newObject = Numbers2(10*10) \n",
    "newObject.classify(k=3)\n",
    "\n",
    "newconMatrix = newObject.newconfusedMatrix\n",
    "print('Confusion matrix for test data\\n',newconMatrix)\n",
    "\n",
    "newObject.viewDigit(newconMatrix)\n",
    "#print(conMatrix[:4][:4])\n",
    "newObject.viewDigit(newconMatrix[:6][:6])\n",
    "newObject.viewDigit(newconMatrix[3:][3:])"
   ]
  },
  {
   "cell_type": "code",
   "execution_count": 346,
   "metadata": {},
   "outputs": [
    {
     "data": {
      "text/plain": [
       "Text(0,0.5,'Accuracy in percentage')"
      ]
     },
     "execution_count": 346,
     "metadata": {},
     "output_type": "execute_result"
    },
    {
     "data": {
      "image/png": "[encoded data removed]",
      "text/plain": [
       "<Figure size 432x288 with 1 Axes>"
      ]
     },
     "metadata": {
      "needs_background": "light"
     },
     "output_type": "display_data"
    }
   ],
   "source": [
    "trainratio = [1, 10, 20, 30, 40, 50, 60, 70, 80, 90, 100]\n",
    "accuk5 = [58.823, 96.089, 97.214, 98.515, 98.607, 99.109, 99.165, 99.124, 99.0257, 99.010, 99.165]\n",
    "accuk3 = [70.588,99.441, 98.607, 98.886, 99.025, 99.109, 99.443, 99.124, 99.095, 99.196, 99.332]\n",
    "\n",
    "plt.plot(trainratio, accuk5, color = 'r')\n",
    "plt.text(17,93,'k=5')\n",
    "plt.plot(trainratio, accuk3, color = 'b')\n",
    "plt.text(2.5,98,'k=3')\n",
    "plt.title('Training data percentage vs accuracy')\n",
    "plt.xlabel('Training data percentage')\n",
    "plt.ylabel('Accuracy in percentage')\n"
   ]
  },
  {
   "cell_type": "markdown",
   "metadata": {},
   "source": [
    "### Observations ###\n",
    "The above plot shows the variation of accuracy with change in training data percentage for two values of k. Blue plot indicates k = 3, red plot indicates k = 5. \n",
    "\n",
    "* First, the general observation that can be made is that as long as training data is kept above a certain threshold, in this case around 40%, the values of k do not seem to make a difference.\n",
    "* Second, k = 3 yields better results than k = 5 for the same training data percentage till about 40% after which they both became nearly the same.\n",
    "* Third, while it is noticeable that there is not much change after 40%, it is worth noticing that decreasing it below that threshold is simply disastrous for accuracy, especially in the case of k = 5.\n",
    "\n",
    "\n",
    "Therefore, it is a good measure to keep am 80:20 or 70:30 split ratio than 20:80 or 30:70."
   ]
  },
  {
   "cell_type": "markdown",
   "metadata": {},
   "source": [
    "#### END OF DOCUMENT ####"
   ]
  }
 ],
 "metadata": {
  "kernelspec": {
   "display_name": "Python 3",
   "language": "python",
   "name": "python3"
  },
  "language_info": {
   "codemirror_mode": {
    "name": "ipython",
    "version": 3
   },
   "file_extension": ".py",
   "mimetype": "text/x-python",
   "name": "python",
   "nbconvert_exporter": "python",
   "pygments_lexer": "ipython3",
   "version": "3.7.0"
  }
 },
 "nbformat": 4,
 "nbformat_minor": 2
}
